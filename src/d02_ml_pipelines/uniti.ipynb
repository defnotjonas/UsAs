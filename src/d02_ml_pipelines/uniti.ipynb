{
 "cells": [
  {
   "cell_type": "markdown",
   "metadata": {
    "tags": []
   },
   "source": [
    "# ML Pipeline for the UNITI dataset\n",
    "\n",
    "## Purpose of this notebook\n",
    "- [x] Prepare dataframe for ML\n",
    "- [ ] Perform different split approaches to get different model solutions\n",
    "    - [x] Answer-Cut\n",
    "    - [ ] Time-Cut\n",
    "    - [ ] User-wise \n",
    "    - [ ] Average-user\n",
    "    - [ ] Group-wise\n",
    "- [ ] Evalulate all approaches in one table in terms of performance and robustness"
   ]
  },
  {
   "cell_type": "code",
   "execution_count": 1,
   "metadata": {},
   "outputs": [],
   "source": [
    "# imports\n",
    "import pandas as pd\n",
    "from sklearn.preprocessing import LabelEncoder\n",
    "from sklearn.model_selection import cross_val_score, ShuffleSplit\n",
    "from sklearn.ensemble import RandomForestClassifier\n",
    "from sklearn.metrics import f1_score, confusion_matrix\n",
    "import seaborn as sns\n",
    "import matplotlib.pyplot as plt"
   ]
  },
  {
   "cell_type": "code",
   "execution_count": 2,
   "metadata": {},
   "outputs": [],
   "source": [
    "# read in df\n",
    "df = pd.read_csv('../../data/d02_processed/uniti/uniti.csv', index_col='answer_id')"
   ]
  },
  {
   "cell_type": "markdown",
   "metadata": {
    "tags": []
   },
   "source": [
    "## Prepare dataframe for ML"
   ]
  },
  {
   "cell_type": "markdown",
   "metadata": {},
   "source": [
    "Define test data to evaluate all approaches on the same testset.\n",
    "\n",
    "20 % of the users shall be taken for test, 80 % for trying out different approaches."
   ]
  },
  {
   "cell_type": "code",
   "execution_count": 3,
   "metadata": {},
   "outputs": [],
   "source": [
    "# define list of users\n",
    "users_list = df.user_id.unique()\n",
    "# 20 % into train users\n",
    "test_users = pd.Series(users_list).sample(frac=0.2, random_state=1994).to_list()\n",
    "# 80 % into test users\n",
    "train_users = [x for x in users_list if x not in set(test_users)]\n",
    "# unit test 1\n",
    "assert set(train_users + test_users) == set(users_list)\n",
    "# unit test 2\n",
    "assert test_users[:20] == [18153,40272,40135,2355,2325,34144,6180,6724,2110,36262,40402,40273,40311,2118,2317,6692,42321,42686,42678,36478]\n",
    "\n",
    "# get train and test dataframe\n",
    "# use train to check approaches, use test to validate approaches\n",
    "df_train = df[df['user_id'].isin(train_users)]\n",
    "df_test = df[df['user_id'].isin(test_users)]"
   ]
  },
  {
   "cell_type": "code",
   "execution_count": 5,
   "metadata": {},
   "outputs": [],
   "source": [
    "# define features and target\n",
    "features = ['loudness', 'cumberness', 'jawbone', 'neck', 'tin_day', 'tin_cumber', 'tin_max', 'movement', 'stress', 'emotion']\n",
    "target = ['cumberness_t1']\n",
    "\n",
    "# get train and test subsets for X and y\n",
    "X_train = df_train[features]\n",
    "y_train = df_train[target]\n",
    "X_test = df_test[features]\n",
    "y_test = df_test[target]\n",
    "\n",
    "# make cumberness a classification instead of regression for the target, not for the feature\n",
    "y_train = pd.cut(y_train.cumberness_t1, bins=5)\n",
    "y_test = pd.cut(y_test.cumberness_t1, bins=5)\n",
    "\n",
    "# LabelEncoder\n",
    "LE = LabelEncoder()\n",
    "y_train = LE.fit_transform(y_train)\n",
    "y_test = LE.transform(y_test)\n",
    "# get class mapping as dict\n",
    "mapping = dict(zip(range(len(LE.classes_)), LE.classes_))"
   ]
  },
  {
   "cell_type": "markdown",
   "metadata": {
    "tags": []
   },
   "source": [
    "## Perform different split approaches to get different model solutions"
   ]
  },
  {
   "cell_type": "markdown",
   "metadata": {},
   "source": [
    "### Approach | Answer-cut"
   ]
  },
  {
   "cell_type": "code",
   "execution_count": 6,
   "metadata": {},
   "outputs": [
    {
     "name": "stdout",
     "output_type": "stream",
     "text": [
      "Performance within train\n",
      "f1_weighted mean  0.5884393749165102\n",
      "standarddeviation  0.0034182248462100934\n",
      "f1_weighted testscore:  0.5351539249809311\n"
     ]
    }
   ],
   "source": [
    "# instantiate model\n",
    "model = RandomForestClassifier(random_state=1994)\n",
    "\n",
    "# train model\n",
    "cv = ShuffleSplit(n_splits=5, test_size=0.2, random_state=1994)\n",
    "scores = cross_val_score(model, X_train, y_train, cv=cv, scoring='f1_weighted')\n",
    "\n",
    "# validate model\n",
    "print('Performance within train')\n",
    "print('f1_weighted mean ', scores.mean())\n",
    "print('standarddeviation ', scores.std())\n",
    "\n",
    "# refit on all training data\n",
    "model.fit(X_train, y_train)\n",
    "\n",
    "# evaluate on test set\n",
    "y_pred = model.predict(X_test)\n",
    "f1_score_test = f1_score(y_test, y_pred, average='weighted')\n",
    "final_score = f1_score_test - 0.5 * scores.std()\n",
    "\n",
    "print('f1_weighted testscore: ', f1_score_test)"
   ]
  },
  {
   "cell_type": "code",
   "execution_count": 7,
   "metadata": {},
   "outputs": [],
   "source": [
    "# TODO: What is baseline? Last cumberness? Average cumberness`? Majority cumberness?"
   ]
  },
  {
   "cell_type": "code",
   "execution_count": 8,
   "metadata": {},
   "outputs": [
    {
     "data": {
      "image/png": "[encoded data removed]",
      "text/plain": [
       "<Figure size 432x288 with 2 Axes>"
      ]
     },
     "metadata": {
      "needs_background": "light"
     },
     "output_type": "display_data"
    }
   ],
   "source": [
    "# visualize confusion matrix\n",
    "cf_matrix = confusion_matrix(y_test, y_pred)\n",
    "cm_array_df = pd.DataFrame(cf_matrix, index=list(mapping.values()), columns=list(mapping.values()))\n",
    "sns.heatmap(cm_array_df, annot=True, cmap='Blues', fmt='')\n",
    "plt.title(f'Final score {round(final_score, 3)}')\n",
    "plt.show()"
   ]
  },
  {
   "cell_type": "markdown",
   "metadata": {},
   "source": [
    "## Evalulate all approaches in one table in terms of performance and robustness"
   ]
  }
 ],
 "metadata": {
  "kernelspec": {
   "display_name": "Python 3 (ipykernel)",
   "language": "python",
   "name": "python3"
  },
  "language_info": {
   "codemirror_mode": {
    "name": "ipython",
    "version": 3
   },
   "file_extension": ".py",
   "mimetype": "text/x-python",
   "name": "python",
   "nbconvert_exporter": "python",
   "pygments_lexer": "ipython3",
   "version": "3.9.0"
  }
 },
 "nbformat": 4,
 "nbformat_minor": 4
}
