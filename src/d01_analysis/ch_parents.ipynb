{
 "cells": [
  {
   "cell_type": "markdown",
   "id": "fe7447a2-c2f7-48a1-a094-6bfe12ba0185",
   "metadata": {
    "tags": []
   },
   "source": [
    "# Corona Health - Psychological Health of adults ('Parents') Study"
   ]
  },
  {
   "cell_type": "markdown",
   "id": "aa7ce3f2-72c6-48de-beb5-a7ba3e8baddc",
   "metadata": {},
   "source": [
    "## Purpose of this Notebook\n",
    "- [ ] Clean the dataset and save cleaned version\n",
    "- [x] Get an statistical overview\n",
    "    - [x] How many users?\n",
    "    - [x] How many assessments (= filled out questionnaires)?\n",
    "    - [x] Date range of the dataset?\n",
    "    - [x] User-assessment distribution\n",
    "- [ ] Potential target for classification?\n",
    "- [ ] Potential features for classification?\n",
    "    \n",
    "    "
   ]
  },
  {
   "cell_type": "markdown",
   "id": "695d76d3-3b02-4e22-b64a-83df951d6925",
   "metadata": {},
   "source": [
    "#### Statistical overview"
   ]
  },
  {
   "cell_type": "code",
   "execution_count": 7,
   "id": "404bfeb8-9eda-4fce-9fc1-e03e8f0411c3",
   "metadata": {},
   "outputs": [],
   "source": [
    "# imports\n",
    "import pandas as pd\n",
    "from datetime import date, datetime"
   ]
  },
  {
   "cell_type": "code",
   "execution_count": 8,
   "id": "8e7c72f1-63ac-4d0c-91d0-4da3828ba500",
   "metadata": {},
   "outputs": [],
   "source": [
    "# to import own modules, a workaround - assuming the curent working directory is the folder (your/local/path/UsAs/src/d01_analysis\n",
    "import sys\n",
    "sys.path.insert(0, \"../..\")\n",
    "\n",
    "from src.d00_utils import helpers"
   ]
  },
  {
   "cell_type": "code",
   "execution_count": 9,
   "id": "479c3c1e-9a21-46a5-889c-ba1a37bcfd35",
   "metadata": {},
   "outputs": [],
   "source": [
    "# read in dataframe\n",
    "# assuming current working directory is the folder (your/local/path/UsAs/src/d01_analysis)\n",
    "df = pd.read_csv('../../data/d01_raw/ch/22-07-01_rki_parent_followup.csv')"
   ]
  },
  {
   "cell_type": "code",
   "execution_count": 10,
   "id": "a906792b-03b0-4e84-91bd-66a20e25de5e",
   "metadata": {},
   "outputs": [],
   "source": [
    "# create result dict to save to disk\n",
    "result = dict()"
   ]
  },
  {
   "cell_type": "code",
   "execution_count": 11,
   "id": "6e0dbd13-3c1b-48f9-b792-676e4a2143e3",
   "metadata": {},
   "outputs": [
    {
     "name": "stdout",
     "output_type": "stream",
     "text": [
      "Number of user:\t 1428\n"
     ]
    }
   ],
   "source": [
    "# Number of unique users\n",
    "print('Number of user:\\t', df.user_id.nunique())\n",
    "result['n_users'] = df.user_id.nunique()"
   ]
  },
  {
   "cell_type": "code",
   "execution_count": 12,
   "id": "998a5a64-c982-420b-89b6-a53ab2acd2ef",
   "metadata": {},
   "outputs": [
    {
     "name": "stdout",
     "output_type": "stream",
     "text": [
      "Number of assessments:\t 9957\n"
     ]
    }
   ],
   "source": [
    "# number of unique answers\n",
    "print('Number of assessments:\\t', df.answer_id.nunique())\n",
    "result['n_assessments'] = df.answer_id.nunique()"
   ]
  },
  {
   "cell_type": "code",
   "execution_count": 13,
   "id": "e4ba71eb-db18-483a-aeb4-9daa60bed22d",
   "metadata": {},
   "outputs": [
    {
     "name": "stdout",
     "output_type": "stream",
     "text": [
      "Start:\t 2020-07-21 14:13:47\n",
      "End:\t 2022-02-03 17:30:12\n",
      "\n",
      "Date Range in\n",
      "Years:\t 1.5397260273972602\n",
      "Months:\t 46.833333333333336\n",
      "Days:\t 562\n"
     ]
    }
   ],
   "source": [
    "# date range\n",
    "form = '%Y-%m-%d %H:%M:%S'\n",
    "date_start = df.created_at.min()\n",
    "result['First assessment from'] = date_start\n",
    "date_start = datetime.strptime(date_start, form)\n",
    "date_end = df.created_at.max()\n",
    "result['Latest assessment from'] = date_end\n",
    "date_end = datetime.strptime(date_end, form)\n",
    "\n",
    "\n",
    "\n",
    "print('Start:\\t', date_start)\n",
    "print('End:\\t', date_end)\n",
    "\n",
    "delta = date_end.date()-date_start.date()\n",
    "\n",
    "print('\\nDate Range in')\n",
    "print('Years:\\t', delta.days/365)\n",
    "print('Months:\\t', delta.days/12)\n",
    "print('Days:\\t', delta.days)\n",
    "\n",
    "\n",
    "result['Time range in days'] = delta.days"
   ]
  },
  {
   "cell_type": "markdown",
   "id": "291f5061-6cb9-4957-8c8b-3e030032c3c0",
   "metadata": {},
   "source": [
    "#### Distribution of filled out questionnaires"
   ]
  },
  {
   "cell_type": "code",
   "execution_count": 14,
   "id": "da89219f-6174-454c-857b-c766c641ffc0",
   "metadata": {},
   "outputs": [],
   "source": [
    "bins = [0, 1, 2, 3, 5, 10, 100, 1000]\n",
    "ser = pd.cut(df.user_id.value_counts(), bins = bins).value_counts().sort_index()\n",
    "ser\n",
    "result.update(dict(ser))"
   ]
  },
  {
   "cell_type": "markdown",
   "id": "92921571-101b-49f4-8387-13ff275ca817",
   "metadata": {
    "tags": []
   },
   "source": [
    "### Average period length between two filled out questionnaires"
   ]
  },
  {
   "cell_type": "code",
   "execution_count": 15,
   "id": "41272d20-ba99-4572-937b-69171829ca7f",
   "metadata": {},
   "outputs": [],
   "source": [
    "# res = result\n",
    "res = helpers.find_mode_period_length(df, form='%Y-%m-%d %H:%M:%S', date_col_name='created_at')\n",
    "result.update(res)"
   ]
  },
  {
   "cell_type": "markdown",
   "id": "0b2a2ba3-b5c0-41da-b7f2-c1272bd20b1e",
   "metadata": {},
   "source": [
    "### Statistical overview"
   ]
  },
  {
   "cell_type": "code",
   "execution_count": 16,
   "id": "d1776938-8f21-41c3-99e3-e855361b380a",
   "metadata": {},
   "outputs": [
    {
     "data": {
      "text/plain": [
       "{'n_users': 1428,\n",
       " 'n_assessments': 9957,\n",
       " 'First assessment from': '2020-07-21 14:13:47',\n",
       " 'Latest assessment from': '2022-02-03 17:30:12',\n",
       " 'Time range in days': 562,\n",
       " Interval(0, 1, closed='right'): 439,\n",
       " Interval(1, 2, closed='right'): 224,\n",
       " Interval(2, 3, closed='right'): 137,\n",
       " Interval(3, 5, closed='right'): 174,\n",
       " Interval(5, 10, closed='right'): 207,\n",
       " Interval(10, 100, closed='right'): 247,\n",
       " Interval(100, 1000, closed='right'): 0,\n",
       " 'avg hours between two assessments': 163.84839310829818,\n",
       " 'avg days between two assessments': 6.827016379512424,\n",
       " 'std_hours': 51.87054059436013,\n",
       " 'std_days': 2.161272524765005}"
      ]
     },
     "execution_count": 16,
     "metadata": {},
     "output_type": "execute_result"
    }
   ],
   "source": [
    "result"
   ]
  },
  {
   "cell_type": "code",
   "execution_count": 17,
   "id": "586c7499-e590-48ba-a815-0800e7b055a9",
   "metadata": {},
   "outputs": [
    {
     "name": "stderr",
     "output_type": "stream",
     "text": [
      "C:\\Users\\joa24jm\\AppData\\Local\\Programs\\Python\\Python39\\lib\\site-packages\\openpyxl\\worksheet\\_reader.py:312: UserWarning: Conditional Formatting extension is not supported and will be removed\n",
      "  warn(msg)\n"
     ]
    }
   ],
   "source": [
    "# read in codebook and reduce to columns and rows of interest\n",
    "cb = pd.read_excel('../../data/d00_helpers/codebook/ch/rki_parent.xlsx', sheet_name='FollowUp', header=4)\n",
    "cb = cb[cb.elementtype=='question']\n",
    "cb = cb.iloc[:, :30]"
   ]
  }
 ],
 "metadata": {
  "kernelspec": {
   "display_name": "Python 3 (ipykernel)",
   "language": "python",
   "name": "python3"
  },
  "language_info": {
   "codemirror_mode": {
    "name": "ipython",
    "version": 3
   },
   "file_extension": ".py",
   "mimetype": "text/x-python",
   "name": "python",
   "nbconvert_exporter": "python",
   "pygments_lexer": "ipython3",
   "version": "3.9.0"
  }
 },
 "nbformat": 4,
 "nbformat_minor": 5
}
