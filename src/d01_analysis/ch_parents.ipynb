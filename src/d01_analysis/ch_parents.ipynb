{
 "cells": [
  {
   "cell_type": "markdown",
   "id": "fe7447a2-c2f7-48a1-a094-6bfe12ba0185",
   "metadata": {
    "tags": []
   },
   "source": [
    "# Corona Health - Psychological Health of adults ('Parents') Study"
   ]
  },
  {
   "cell_type": "markdown",
   "id": "aa7ce3f2-72c6-48de-beb5-a7ba3e8baddc",
   "metadata": {},
   "source": [
    "## Purpose of this Notebook\n",
    "- [ ] Clean the dataset and save cleaned version\n",
    "- [x] Get an statistical overview\n",
    "    - [x] How many users?\n",
    "    - [x] How many assessments (= filled out questionnaires)?\n",
    "    - [x] Date range of the dataset?\n",
    "    - [x] User-assessment distribution\n",
    "- [ ] Potential target for classification?\n",
    "- [ ] Potential features for classification?\n",
    "    \n",
    "    "
   ]
  },
  {
   "cell_type": "markdown",
   "id": "695d76d3-3b02-4e22-b64a-83df951d6925",
   "metadata": {},
   "source": [
    "#### Statistical overview"
   ]
  },
  {
   "cell_type": "code",
   "execution_count": 2,
   "id": "404bfeb8-9eda-4fce-9fc1-e03e8f0411c3",
   "metadata": {},
   "outputs": [],
   "source": [
    "# imports\n",
    "import pandas as pd\n",
    "from datetime import date, datetime"
   ]
  },
  {
   "cell_type": "code",
   "execution_count": 3,
   "id": "8e7c72f1-63ac-4d0c-91d0-4da3828ba500",
   "metadata": {},
   "outputs": [],
   "source": [
    "# to import own modules, a workaround - assuming the curent working directory is the folder (your/local/path/UsAs/src/d01_analysis\n",
    "import sys\n",
    "sys.path.insert(0, \"../..\")\n",
    "\n",
    "from src.d00_utils import helpers"
   ]
  },
  {
   "cell_type": "code",
   "execution_count": 4,
   "id": "479c3c1e-9a21-46a5-889c-ba1a37bcfd35",
   "metadata": {},
   "outputs": [],
   "source": [
    "# read in dataframe\n",
    "# assuming current working directory is the folder (your/local/path/UsAs/src/d01_analysis)\n",
    "df = pd.read_csv('../../data/d01_raw/ch/22-10-05_rki_parent_followup.csv')\n",
    "df_baseline = pd.read_csv('../../data/d01_raw/ch/22-10-05_rki_parent_baseline.csv')"
   ]
  },
  {
   "cell_type": "code",
   "execution_count": 5,
   "id": "a906792b-03b0-4e84-91bd-66a20e25de5e",
   "metadata": {},
   "outputs": [],
   "source": [
    "# create result dict to save to disk\n",
    "result = dict()"
   ]
  },
  {
   "cell_type": "code",
   "execution_count": 6,
   "id": "6e0dbd13-3c1b-48f9-b792-676e4a2143e3",
   "metadata": {},
   "outputs": [
    {
     "name": "stdout",
     "output_type": "stream",
     "text": [
      "Number of user:\t 1474\n"
     ]
    }
   ],
   "source": [
    "# Number of unique users\n",
    "print('Number of user:\\t', df.user_id.nunique())\n",
    "result['n_users'] = df.user_id.nunique()"
   ]
  },
  {
   "cell_type": "code",
   "execution_count": 7,
   "id": "998a5a64-c982-420b-89b6-a53ab2acd2ef",
   "metadata": {},
   "outputs": [
    {
     "name": "stdout",
     "output_type": "stream",
     "text": [
      "Number of assessments:\t 11081\n"
     ]
    }
   ],
   "source": [
    "# number of unique answers\n",
    "print('Number of assessments:\\t', df.answer_id.nunique())\n",
    "result['n_assessments'] = df.answer_id.nunique()"
   ]
  },
  {
   "cell_type": "code",
   "execution_count": 8,
   "id": "e4ba71eb-db18-483a-aeb4-9daa60bed22d",
   "metadata": {},
   "outputs": [
    {
     "name": "stdout",
     "output_type": "stream",
     "text": [
      "Start:\t 2020-07-21 14:13:47\n",
      "End:\t 2022-09-30 16:30:08\n",
      "\n",
      "Date Range in\n",
      "Years:\t 2.1945205479452055\n",
      "Months:\t 66.75\n",
      "Days:\t 801\n"
     ]
    }
   ],
   "source": [
    "# date range\n",
    "form = '%Y-%m-%d %H:%M:%S'\n",
    "date_start = df.created_at.min()\n",
    "result['First assessment from'] = date_start\n",
    "date_start = datetime.strptime(date_start, form)\n",
    "date_end = df.created_at.max()\n",
    "result['Latest assessment from'] = date_end\n",
    "date_end = datetime.strptime(date_end, form)\n",
    "\n",
    "\n",
    "\n",
    "print('Start:\\t', date_start)\n",
    "print('End:\\t', date_end)\n",
    "\n",
    "delta = date_end.date()-date_start.date()\n",
    "\n",
    "print('\\nDate Range in')\n",
    "print('Years:\\t', delta.days/365)\n",
    "print('Months:\\t', delta.days/12)\n",
    "print('Days:\\t', delta.days)\n",
    "\n",
    "\n",
    "result['Time range in days'] = delta.days"
   ]
  },
  {
   "cell_type": "markdown",
   "id": "291f5061-6cb9-4957-8c8b-3e030032c3c0",
   "metadata": {},
   "source": [
    "#### Distribution of filled out questionnaires"
   ]
  },
  {
   "cell_type": "code",
   "execution_count": 9,
   "id": "da89219f-6174-454c-857b-c766c641ffc0",
   "metadata": {},
   "outputs": [],
   "source": [
    "bins = [0, 1, 2, 3, 5, 10, 100, 1000]\n",
    "ser = pd.cut(df.user_id.value_counts(), bins = bins).value_counts().sort_index()\n",
    "ser\n",
    "result.update(dict(ser))"
   ]
  },
  {
   "cell_type": "markdown",
   "id": "92921571-101b-49f4-8387-13ff275ca817",
   "metadata": {
    "tags": []
   },
   "source": [
    "### Average period length between two filled out questionnaires"
   ]
  },
  {
   "cell_type": "code",
   "execution_count": 10,
   "id": "41272d20-ba99-4572-937b-69171829ca7f",
   "metadata": {},
   "outputs": [],
   "source": [
    "# res = result\n",
    "res = helpers.find_schedule_pattern(df, form='%Y-%m-%d %H:%M:%S', date_col_name='created_at')\n",
    "result.update(res)"
   ]
  },
  {
   "cell_type": "markdown",
   "source": [
    "### Age Distribution\n",
    "\n",
    "The following table shows the number of users for each age."
   ],
   "metadata": {
    "collapsed": false
   }
  },
  {
   "cell_type": "code",
   "execution_count": 11,
   "outputs": [
    {
     "data": {
      "text/plain": "alter\n18     50\n19     41\n20     42\n21     48\n22     58\n       ..\n79      1\n80      2\n82      2\n84      1\n120     2\nName: user_id, Length: 66, dtype: int64"
     },
     "execution_count": 11,
     "metadata": {},
     "output_type": "execute_result"
    }
   ],
   "source": [
    "df_baseline.groupby('alter')['user_id'].count()"
   ],
   "metadata": {
    "collapsed": false
   }
  },
  {
   "cell_type": "markdown",
   "source": [
    "Now we compute the mean age and the standard deviation"
   ],
   "metadata": {
    "collapsed": false
   }
  },
  {
   "cell_type": "code",
   "execution_count": 12,
   "outputs": [
    {
     "name": "stdout",
     "output_type": "stream",
     "text": [
      "Durschnittliches Alter: 41.18 Jahre\n",
      "Standardabweichung Alter: 13.92 Jahre\n"
     ]
    }
   ],
   "source": [
    "avg_age = df_baseline['alter'].mean()\n",
    "std_age = df_baseline['alter'].std()\n",
    "\n",
    "result['avg_age'] = avg_age\n",
    "result['std_age'] = std_age\n",
    "\n",
    "print(\"Durschnittliches Alter: %4.2f Jahre\" % avg_age)\n",
    "print(\"Standardabweichung Alter: %4.2f Jahre\" % std_age)"
   ],
   "metadata": {
    "collapsed": false
   }
  },
  {
   "cell_type": "markdown",
   "source": [
    "### Sex Distribution\n",
    "\n",
    "We calculate the number of users that self identified their sex as male (0), female (1) or other (2)"
   ],
   "metadata": {
    "collapsed": false
   }
  },
  {
   "cell_type": "code",
   "execution_count": 21,
   "outputs": [
    {
     "name": "stdout",
     "output_type": "stream",
     "text": [
      "            user_id   label\n",
      "geschlecht                 \n",
      "0              1436    male\n",
      "1              1213  female\n",
      "2                21   other\n",
      "\n",
      "0 users without submitted sex\n"
     ]
    }
   ],
   "source": [
    "df_sex = pd.DataFrame(df_baseline.groupby('geschlecht')['user_id'].count())\n",
    "df_sex['label'] = ('male', 'female', 'other')\n",
    "\n",
    "result['n_users_male'] = df_sex['user_id'][0.0]\n",
    "result['n_users_female'] = df_sex['user_id'][1.0]\n",
    "result['n_users_other'] = df_sex['user_id'][2.0]\n",
    "\n",
    "print(df_sex)\n",
    "print(\"\\n{} users without submitted sex\".format(df_baseline['user_id'].count() - (result['n_users_male'] + result['n_users_female'] + result['n_users_other'])))"
   ],
   "metadata": {
    "collapsed": false
   }
  },
  {
   "cell_type": "markdown",
   "source": [
    "### Country Statistics\n",
    "\n",
    "We calculate how many users participated by country."
   ],
   "metadata": {
    "collapsed": false
   }
  },
  {
   "cell_type": "code",
   "execution_count": 17,
   "outputs": [
    {
     "data": {
      "text/plain": "region\n13        1\n151       6\n154      10\n155      12\n21        1\n30        1\n39        1\nde     2638\nName: user_id, dtype: int64"
     },
     "execution_count": 17,
     "metadata": {},
     "output_type": "execute_result"
    }
   ],
   "source": [
    "country_series = df_baseline.groupby('region')['user_id'].count()\n",
    "country_series"
   ],
   "metadata": {
    "collapsed": false
   }
  },
  {
   "cell_type": "markdown",
   "source": [
    "We also calculate the percentage of german-based users in the dataset"
   ],
   "metadata": {
    "collapsed": false
   }
  },
  {
   "cell_type": "code",
   "execution_count": 20,
   "outputs": [
    {
     "name": "stdout",
     "output_type": "stream",
     "text": [
      "98.80% german-based users in dataset\n"
     ]
    }
   ],
   "source": [
    "result['n_users_german'] = country_series['de']\n",
    "result['n_users_non_german'] = country_series.sum()\n",
    "print('{:.2f}% german-based users in dataset'.format(country_series['de'] / country_series.sum() * 100))"
   ],
   "metadata": {
    "collapsed": false
   }
  },
  {
   "cell_type": "markdown",
   "id": "0b2a2ba3-b5c0-41da-b7f2-c1272bd20b1e",
   "metadata": {},
   "source": [
    "### Statistical overview"
   ]
  },
  {
   "cell_type": "code",
   "execution_count": 10,
   "id": "d1776938-8f21-41c3-99e3-e855361b380a",
   "metadata": {},
   "outputs": [
    {
     "data": {
      "text/plain": [
       "{'n_users': 1474,\n",
       " 'n_assessments': 11081,\n",
       " 'First assessment from': '2020-07-21 14:13:47',\n",
       " 'Latest assessment from': '2022-09-30 16:30:08',\n",
       " 'Time range in days': 801,\n",
       " Interval(0, 1, closed='right'): 449,\n",
       " Interval(1, 2, closed='right'): 228,\n",
       " Interval(2, 3, closed='right'): 137,\n",
       " Interval(3, 5, closed='right'): 185,\n",
       " Interval(5, 10, closed='right'): 210,\n",
       " Interval(10, 100, closed='right'): 261,\n",
       " Interval(100, 1000, closed='right'): 4,\n",
       " 'avg hours between two assessments': 488.5354808402132,\n",
       " 'avg days between two assessments': 20.355645035008884,\n",
       " 'std_hours': 690.5613713522175,\n",
       " 'std_days': 28.773390473009062}"
      ]
     },
     "execution_count": 10,
     "metadata": {},
     "output_type": "execute_result"
    }
   ],
   "source": [
    "result"
   ]
  },
  {
   "cell_type": "code",
   "execution_count": 11,
   "id": "586c7499-e590-48ba-a815-0800e7b055a9",
   "metadata": {},
   "outputs": [
    {
     "name": "stderr",
     "output_type": "stream",
     "text": [
      "C:\\Users\\joa24jm\\AppData\\Local\\Programs\\Python\\Python39\\lib\\site-packages\\openpyxl\\worksheet\\_reader.py:312: UserWarning: Conditional Formatting extension is not supported and will be removed\n",
      "  warn(msg)\n"
     ]
    }
   ],
   "source": [
    "# read in codebook and reduce to columns and rows of interest\n",
    "cb = pd.read_excel('../../data/d00_helpers/codebook/ch/rki_parent.xlsx', sheet_name='FollowUp', header=4)\n",
    "cb = cb[cb.elementtype=='question']\n",
    "cb = cb.iloc[:, :30]"
   ]
  }
 ],
 "metadata": {
  "kernelspec": {
   "display_name": "Python 3 (ipykernel)",
   "language": "python",
   "name": "python3"
  },
  "language_info": {
   "codemirror_mode": {
    "name": "ipython",
    "version": 3
   },
   "file_extension": ".py",
   "mimetype": "text/x-python",
   "name": "python",
   "nbconvert_exporter": "python",
   "pygments_lexer": "ipython3",
   "version": "3.9.0"
  }
 },
 "nbformat": 4,
 "nbformat_minor": 5
}
