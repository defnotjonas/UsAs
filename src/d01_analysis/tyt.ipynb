{
 "cells": [
  {
   "cell_type": "markdown",
   "id": "f6f52cca-94ce-46cc-873e-6c0bb67cc899",
   "metadata": {},
   "source": [
    "#  Track Your Tinnitus (TYT) Dataset"
   ]
  },
  {
   "cell_type": "markdown",
   "id": "a07c53ff-1539-4aa6-a65f-c25d545f5c3a",
   "metadata": {},
   "source": [
    "## Purpose of this Notebook\n",
    "- [ ] Clean the dataset and save cleaned version\n",
    "- [x] Get an statistical overview\n",
    "    - [x] How many users?\n",
    "    - [x] How many assessments (= filled out questionnaires)?\n",
    "    - [x] Date range of the dataset?\n",
    "    - [x] User-assessment distribution\n",
    "- [x] Potential target for classification?\n",
    "- [ ] Potential features for classification?\n",
    "    \n",
    "    "
   ]
  },
  {
   "cell_type": "code",
   "execution_count": 1,
   "id": "989948c1-a016-4519-a586-9b6957f718ab",
   "metadata": {},
   "outputs": [],
   "source": [
    "# imports\n",
    "import pandas as pd\n",
    "from datetime import date, datetime\n",
    "import seaborn as sns\n",
    "import warnings\n",
    "warnings.filterwarnings('ignore')"
   ]
  },
  {
   "cell_type": "code",
   "execution_count": 2,
   "id": "2c3e5154-310c-46bb-8bf8-67dc4bc913a4",
   "metadata": {},
   "outputs": [],
   "source": [
    "# local imports\n",
    "import sys\n",
    "sys.path.insert(0, \"../..\")\n",
    "\n",
    "from src.d00_utils import helpers"
   ]
  },
  {
   "cell_type": "code",
   "execution_count": 3,
   "id": "3d7f5a69-747e-44d5-b0b9-f969901b3fb8",
   "metadata": {},
   "outputs": [
    {
     "data": {
      "text/html": [
       "<div>\n",
       "<style scoped>\n",
       "    .dataframe tbody tr th:only-of-type {\n",
       "        vertical-align: middle;\n",
       "    }\n",
       "\n",
       "    .dataframe tbody tr th {\n",
       "        vertical-align: top;\n",
       "    }\n",
       "\n",
       "    .dataframe thead th {\n",
       "        text-align: right;\n",
       "    }\n",
       "</style>\n",
       "<table border=\"1\" class=\"dataframe\">\n",
       "  <thead>\n",
       "    <tr style=\"text-align: right;\">\n",
       "      <th></th>\n",
       "      <th>user_id</th>\n",
       "      <th>created_at</th>\n",
       "      <th>question1</th>\n",
       "      <th>question2</th>\n",
       "      <th>question3</th>\n",
       "      <th>question4</th>\n",
       "      <th>question5</th>\n",
       "      <th>question6</th>\n",
       "      <th>question7</th>\n",
       "    </tr>\n",
       "  </thead>\n",
       "  <tbody>\n",
       "    <tr>\n",
       "      <th>0</th>\n",
       "      <td>NaN</td>\n",
       "      <td>2013-07-18 14:14:32</td>\n",
       "      <td>0.0</td>\n",
       "      <td>0.0</td>\n",
       "      <td>0.170818</td>\n",
       "      <td>0.666667</td>\n",
       "      <td>0.25</td>\n",
       "      <td>0.241993</td>\n",
       "      <td>0.343416</td>\n",
       "    </tr>\n",
       "    <tr>\n",
       "      <th>1</th>\n",
       "      <td>NaN</td>\n",
       "      <td>2013-07-18 14:14:34</td>\n",
       "      <td>0.0</td>\n",
       "      <td>0.0</td>\n",
       "      <td>0.170818</td>\n",
       "      <td>0.666667</td>\n",
       "      <td>0.25</td>\n",
       "      <td>0.241993</td>\n",
       "      <td>0.343416</td>\n",
       "    </tr>\n",
       "    <tr>\n",
       "      <th>2</th>\n",
       "      <td>NaN</td>\n",
       "      <td>2013-07-18 14:14:35</td>\n",
       "      <td>0.0</td>\n",
       "      <td>0.0</td>\n",
       "      <td>0.170818</td>\n",
       "      <td>0.666667</td>\n",
       "      <td>0.25</td>\n",
       "      <td>0.241993</td>\n",
       "      <td>0.343416</td>\n",
       "    </tr>\n",
       "    <tr>\n",
       "      <th>3</th>\n",
       "      <td>NaN</td>\n",
       "      <td>2013-07-18 14:14:35</td>\n",
       "      <td>0.0</td>\n",
       "      <td>0.0</td>\n",
       "      <td>0.170818</td>\n",
       "      <td>0.666667</td>\n",
       "      <td>0.25</td>\n",
       "      <td>0.241993</td>\n",
       "      <td>0.343416</td>\n",
       "    </tr>\n",
       "    <tr>\n",
       "      <th>4</th>\n",
       "      <td>NaN</td>\n",
       "      <td>2013-07-26 07:40:23</td>\n",
       "      <td>0.0</td>\n",
       "      <td>0.0</td>\n",
       "      <td>0.170818</td>\n",
       "      <td>0.666667</td>\n",
       "      <td>0.25</td>\n",
       "      <td>0.241993</td>\n",
       "      <td>0.343416</td>\n",
       "    </tr>\n",
       "  </tbody>\n",
       "</table>\n",
       "</div>"
      ],
      "text/plain": [
       "   user_id          created_at  question1  question2  question3  question4  \\\n",
       "0      NaN 2013-07-18 14:14:32        0.0        0.0   0.170818   0.666667   \n",
       "1      NaN 2013-07-18 14:14:34        0.0        0.0   0.170818   0.666667   \n",
       "2      NaN 2013-07-18 14:14:35        0.0        0.0   0.170818   0.666667   \n",
       "3      NaN 2013-07-18 14:14:35        0.0        0.0   0.170818   0.666667   \n",
       "4      NaN 2013-07-26 07:40:23        0.0        0.0   0.170818   0.666667   \n",
       "\n",
       "   question5  question6  question7  \n",
       "0       0.25   0.241993   0.343416  \n",
       "1       0.25   0.241993   0.343416  \n",
       "2       0.25   0.241993   0.343416  \n",
       "3       0.25   0.241993   0.343416  \n",
       "4       0.25   0.241993   0.343416  "
      ]
     },
     "execution_count": 3,
     "metadata": {},
     "output_type": "execute_result"
    }
   ],
   "source": [
    "# read data\n",
    "tyt_raw = pd.read_csv(\"../../data/d01_raw/tyt/22-10-24_standardanswers.csv\")\n",
    "KEEP_COLUMNS = ['user_id','created_at','question1','question2','question3','question4','question5','question6','question7']\n",
    "tyt_raw = tyt_raw[KEEP_COLUMNS]\n",
    "tyt_raw.loc[:,'created_at'] = pd.to_datetime(tyt_raw.created_at, format=\"%Y-%m-%d %H:%M:%S\")\n",
    "tyt_raw.head()"
   ]
  },
  {
   "cell_type": "code",
   "execution_count": 4,
   "id": "1814570f-892c-4614-813e-e61c72342b79",
   "metadata": {},
   "outputs": [],
   "source": [
    "# drop testusers\n",
    "tyt_raw = helpers.drop_test_users('tyt', tyt_raw)"
   ]
  },
  {
   "cell_type": "markdown",
   "id": "f3f0def3-2c98-4c44-8019-b1cd20988a89",
   "metadata": {},
   "source": [
    "###  How many users?"
   ]
  },
  {
   "cell_type": "code",
   "execution_count": 5,
   "id": "568091e0-e1b3-4635-b486-4fa2dc62285e",
   "metadata": {},
   "outputs": [
    {
     "name": "stdout",
     "output_type": "stream",
     "text": [
      "No. of unique users: 3303\n"
     ]
    }
   ],
   "source": [
    "print(\"No. of unique users:\",tyt_raw.user_id.nunique())"
   ]
  },
  {
   "cell_type": "markdown",
   "id": "25895a54-a6ce-4831-bde6-1b62de86c3b9",
   "metadata": {},
   "source": [
    "###  How long does the dataset span?"
   ]
  },
  {
   "cell_type": "code",
   "execution_count": 6,
   "id": "b2029998-15a8-4e86-8fa6-82085d4e769e",
   "metadata": {},
   "outputs": [
    {
     "name": "stdout",
     "output_type": "stream",
     "text": [
      "The dataset spans 3360 days, starting on 2013-07-18 and ending on 2022-09-30\n"
     ]
    }
   ],
   "source": [
    "print(\"The dataset spans\", (tyt_raw.created_at.max() - tyt_raw.created_at.min()).days, \"days, starting on\", tyt_raw.created_at.min().date(), \"and ending on\", tyt_raw.created_at.max().date())"
   ]
  },
  {
   "cell_type": "markdown",
   "id": "daf70141-6ac5-4c9b-89d9-2c8ba90e7b83",
   "metadata": {},
   "source": [
    "### How intensely do users engage with the app?"
   ]
  },
  {
   "cell_type": "code",
   "execution_count": 7,
   "id": "4f28f26d-0e71-4b1e-b567-d88817d186fa",
   "metadata": {},
   "outputs": [
    {
     "name": "stdout",
     "output_type": "stream",
     "text": [
      "The distribution for number of users within a certain range of assessments submitted varies like in the table below:\n",
      "  assessment_quantile  n_users\n",
      "0        (0.999, 2.0]     1473\n",
      "1          (2.0, 5.0]      546\n",
      "2         (5.0, 24.0]      627\n",
      "3      (24.0, 6815.0]      657\n",
      "As you can see, unlike the UNITI dataset, the TYT dataset shows a much more sharp drop-off curve for how long users last before they give up... This is probably due to the fact that most UNITI App users are recruited by doctors for the UNITI RCT\n"
     ]
    }
   ],
   "source": [
    "tyt_raw.loc[:,'assessment_quantile'] = tyt_raw.loc[:,'user_id'].map(pd.qcut(tyt_raw.user_id.value_counts(), 5, duplicates='drop').to_dict())\n",
    "\n",
    "print(\"The distribution for number of users within a certain range of assessments submitted varies like in the table below:\")\n",
    "print(pd.DataFrame(tyt_raw.groupby('assessment_quantile')['user_id'].nunique()).reset_index().rename({'user_id':'n_users'}, axis=1))\n",
    "\n",
    "print(\"As you can see, unlike the UNITI dataset, the TYT dataset shows a much more sharp drop-off curve for how long users last before they give up...\" + \n",
    "      \" This is probably due to the fact that most UNITI App users are recruited by doctors for the UNITI RCT\")"
   ]
  },
  {
   "cell_type": "markdown",
   "id": "04e28ccc-36d1-424f-be88-2a27d2e67600",
   "metadata": {},
   "source": [
    "#### What about at the user level?"
   ]
  },
  {
   "cell_type": "code",
   "execution_count": 8,
   "id": "eada15d8-43d5-437d-90ee-9643209e4a37",
   "metadata": {},
   "outputs": [],
   "source": [
    "tyt_raw['date'] = tyt_raw['created_at'].map(lambda x: x.date())\n",
    "tyt_interaction_intensity_userlevel = pd.DataFrame(tyt_raw.groupby('user_id').agg({'date':['min','max','nunique'], 'user_id':'count'}).reset_index().values, columns = ['user_id','date_min','date_max','n_unique_days', 'n_assessments'])\n",
    "tyt_interaction_intensity_userlevel['date_min'] = pd.to_datetime(tyt_interaction_intensity_userlevel.date_min, format='%Y-%m-%d')\n",
    "tyt_interaction_intensity_userlevel['date_max'] = pd.to_datetime(tyt_interaction_intensity_userlevel.date_max, format='%Y-%m-%d')\n",
    "tyt_interaction_intensity_userlevel['n_unique_days'] = tyt_interaction_intensity_userlevel['n_unique_days'].astype(int)\n",
    "tyt_interaction_intensity_userlevel['n_assessments'] = tyt_interaction_intensity_userlevel['n_assessments'].astype(int)\n",
    "tyt_interaction_desc = tyt_interaction_intensity_userlevel.describe(datetime_is_numeric=True)"
   ]
  },
  {
   "cell_type": "code",
   "execution_count": 9,
   "id": "7bff821e-1747-4593-b95e-b0f05223a2f1",
   "metadata": {},
   "outputs": [
    {
     "name": "stdout",
     "output_type": "stream",
     "text": [
      "Min. number of unique days of data from a user is: 1.0 days \n",
      "25% of the users have <= 1.0 days \n",
      "50% of the users have <= 2.0 days \n",
      "75% of the users have <= 8.0 days, and \n",
      "Max. number of unique days of data from a user is: 1849.0\n"
     ]
    }
   ],
   "source": [
    "print(\"Min. number of unique days of data from a user is:\", tyt_interaction_desc['n_unique_days']['min'],\n",
    "      \"days \\n25% of the users have <=\",tyt_interaction_desc['n_unique_days']['25%'],\n",
    "      \"days \\n50% of the users have <=\",tyt_interaction_desc['n_unique_days']['50%'],\n",
    "      \"days \\n75% of the users have <=\",tyt_interaction_desc['n_unique_days']['75%'],\n",
    "      \"days, and \\nMax. number of unique days of data from a user is:\",tyt_interaction_desc['n_unique_days']['max'])"
   ]
  },
  {
   "cell_type": "code",
   "execution_count": 10,
   "id": "2f5d8fa5-dd7a-4f0e-8039-0b9a5f9aac6c",
   "metadata": {},
   "outputs": [
    {
     "name": "stdout",
     "output_type": "stream",
     "text": [
      "Min. number of submitted assessments from a user is: 1.0 assessments \n",
      "25% of the users have <= 1.0 assessments \n",
      "50% of the users have <= 3.0 assessments \n",
      "75% of the users have <= 16.0 assessments, and \n",
      "Max. number of submitted assessments from a user is: 6815.0\n"
     ]
    }
   ],
   "source": [
    "print(\"Min. number of submitted assessments from a user is:\", tyt_interaction_desc['n_assessments']['min'],\n",
    "      \"assessments \\n25% of the users have <=\",tyt_interaction_desc['n_assessments']['25%'],\n",
    "      \"assessments \\n50% of the users have <=\",tyt_interaction_desc['n_assessments']['50%'],\n",
    "      \"assessments \\n75% of the users have <=\",tyt_interaction_desc['n_assessments']['75%'],\n",
    "      \"assessments, and \\nMax. number of submitted assessments from a user is:\",tyt_interaction_desc['n_assessments']['max'])"
   ]
  },
  {
   "cell_type": "markdown",
   "source": [
    "# Baseline Statistics"
   ],
   "metadata": {
    "collapsed": false
   }
  },
  {
   "cell_type": "markdown",
   "source": [
    "### Sex Distribution\n",
    "\n",
    "We calculate the number of users that self identified their sex as male (0), female (1) or other (2)\n",
    "df_sex = pd.DataFrame(df_baseline.groupby('geschlecht')['user_id'].count())\n",
    "df_sex['label'] = ('male', 'female', 'other')\n",
    "\n",
    "result['n_users_male'] = df_sex['user_id'][0.0]\n",
    "result['n_users_female'] = df_sex['user_id'][1.0]\n",
    "result['n_users_other'] = df_sex['user_id'][2.0]\n",
    "\n",
    "print(df_sex)\n",
    "print(\"\\n{} users without submitted sex\".format(result['n_users'] - (result['n_users_male'] + result['n_users_female'] + result['n_users_other'])))\n",
    "### Country Statistics\n",
    "\n",
    "We calculate how many users participated by country.\n",
    "We also calculate the percentage of german-based users in the dataset"
   ],
   "metadata": {
    "collapsed": false
   }
  },
  {
   "cell_type": "code",
   "execution_count": null,
   "outputs": [],
   "source": [
    "df_baseline.user_id.groupby('alter')['user_id'].count()"
   ],
   "metadata": {
    "collapsed": false
   }
  },
  {
   "cell_type": "markdown",
   "source": [
    "Now we compute the mean age and the standard deviation"
   ],
   "metadata": {
    "collapsed": false
   }
  },
  {
   "cell_type": "code",
   "execution_count": null,
   "outputs": [],
   "source": [
    "avg_age = df_baseline['alter'].mean()\n",
    "std_age = df_baseline['alter'].std()\n",
    "\n",
    "result['avg_age'] = avg_age\n",
    "result['std_age'] = std_age"
   ],
   "metadata": {
    "collapsed": false
   }
  },
  {
   "cell_type": "markdown",
   "source": [
    "### Age Distribution\n",
    "\n",
    "The following table shows the number of users for each age."
   ],
   "metadata": {
    "collapsed": false
   }
  },
  {
   "cell_type": "code",
   "execution_count": null,
   "outputs": [],
   "source": [
    "print(\"Durschnittliches Alter: %4.2f Jahre\" % avg_age)\n",
    "print(\"Standardabweichung Alter: %4.2f Jahre\" % std_age)"
   ],
   "metadata": {
    "collapsed": false
   }
  },
  {
   "cell_type": "markdown",
   "source": [
    "### Sex Distribution\n",
    "\n",
    "We calculate the number of users that self identified their sex as male (0), female (1) or other (2)"
   ],
   "metadata": {
    "collapsed": false
   }
  },
  {
   "cell_type": "code",
   "execution_count": null,
   "outputs": [],
   "source": [
    "df_sex = pd.DataFrame(df_baseline.groupby('geschlecht')['user_id'].count())\n",
    "df_sex['label'] = ('male', 'female', 'other')\n",
    "\n",
    "result['n_users_male'] = df_sex['user_id'][0.0]\n",
    "result['n_users_female'] = df_sex['user_id'][1.0]\n",
    "result['n_users_other'] = df_sex['user_id'][2.0]\n",
    "\n",
    "print(df_sex)\n",
    "print(\"\\n{} users without submitted sex\".format(result['n_users'] - (result['n_users_male'] + result['n_users_female'] + result['n_users_other'])))"
   ],
   "metadata": {
    "collapsed": false
   }
  },
  {
   "cell_type": "markdown",
   "source": [
    "### Country Statistics\n",
    "\n",
    "We calculate how many users participated by country."
   ],
   "metadata": {
    "collapsed": false
   }
  },
  {
   "cell_type": "code",
   "execution_count": null,
   "outputs": [],
   "source": [
    "result['avg_age'] = avg_age\n",
    "result['std_age'] = std_age\n",
    "\n",
    "print(\"Durschnittliches Alter: %4.2f Jahre\" % avg_age)\n",
    "print(\"Standardabweichung Alter: %4.2f Jahre\" % std_age)"
   ],
   "metadata": {
    "collapsed": false
   }
  },
  {
   "cell_type": "markdown",
   "source": [],
   "metadata": {
    "collapsed": false
   }
  },
  {
   "cell_type": "markdown",
   "id": "c1141323-d1cd-4e9d-a266-3f6cce219a48",
   "metadata": {},
   "source": [
    "# Pointers for Target variable"
   ]
  },
  {
   "cell_type": "markdown",
   "id": "d3759bc5-bf5b-4ba6-ac95-c619966d40d7",
   "metadata": {
    "jp-MarkdownHeadingCollapsed": true,
    "tags": []
   },
   "source": [
    "###  A candidate for target variable (Regression) is \"question3\"\n",
    "\n",
    "\n",
    "This is because it is a measure of the distress caused by the disease, and because there is no clear treatment that reliably reduces symptom severity, treating the distress caused by the disease (like in the case of chronic pain) is considered the thing to do, rather than treat the symptom severity.\n",
    "\n",
    "###  If classification, target variable (\"question3\") discretisation can be attempted.:\n",
    "\n",
    "(target in mean +/- user-defined noise threshold is \"no change\", \n",
    "target > mean + threashold is \"worse\", \n",
    "mean - threshold is \"better\")"
   ]
  },
  {
   "cell_type": "markdown",
   "id": "f3d1e63b-c94d-4db5-a518-d71c6982d3bf",
   "metadata": {},
   "source": [
    "### Candidate for features is all other questions excluding target:\n",
    "\n",
    "[question1,question2,question4,question5,question6, question7]"
   ]
  },
  {
   "cell_type": "markdown",
   "id": "40542130-5742-4214-8c93-bb75488a5bbd",
   "metadata": {},
   "source": [
    "###  Misc. tips\n",
    "\n",
    "#### It might be useful to exclude the single binary variable question 1, which asks if the user hears tinnitus right now. It is observed that users are filling loudness and distress as nonzero even when they answer question 1 as \"NO\".\n",
    "\n",
    "For example, see below a comparison of the values for the other 6 questions when NO was the answer to question1.\n",
    "\n",
    "The table below that shows, however, that the values for these 6 questions are much lower than usual... So, this decision is a bit complicated.... But it is possible to argue for either decision (include / exclude this var)"
   ]
  },
  {
   "cell_type": "code",
   "execution_count": 11,
   "id": "a91bf99c-6e37-43a3-b94f-f29c623e74ce",
   "metadata": {},
   "outputs": [
    {
     "data": {
      "text/html": [
       "<div>\n",
       "<style scoped>\n",
       "    .dataframe tbody tr th:only-of-type {\n",
       "        vertical-align: middle;\n",
       "    }\n",
       "\n",
       "    .dataframe tbody tr th {\n",
       "        vertical-align: top;\n",
       "    }\n",
       "\n",
       "    .dataframe thead th {\n",
       "        text-align: right;\n",
       "    }\n",
       "</style>\n",
       "<table border=\"1\" class=\"dataframe\">\n",
       "  <thead>\n",
       "    <tr style=\"text-align: right;\">\n",
       "      <th></th>\n",
       "      <th>question1</th>\n",
       "      <th>question2</th>\n",
       "      <th>question3</th>\n",
       "      <th>question4</th>\n",
       "      <th>question5</th>\n",
       "      <th>question6</th>\n",
       "      <th>question7</th>\n",
       "    </tr>\n",
       "  </thead>\n",
       "  <tbody>\n",
       "    <tr>\n",
       "      <th>count</th>\n",
       "      <td>22184.0</td>\n",
       "      <td>20867.000000</td>\n",
       "      <td>20753.000000</td>\n",
       "      <td>21679.000000</td>\n",
       "      <td>21583.000000</td>\n",
       "      <td>21053.000000</td>\n",
       "      <td>21153.000000</td>\n",
       "    </tr>\n",
       "    <tr>\n",
       "      <th>mean</th>\n",
       "      <td>0.0</td>\n",
       "      <td>0.248225</td>\n",
       "      <td>0.187638</td>\n",
       "      <td>0.614473</td>\n",
       "      <td>0.263132</td>\n",
       "      <td>0.214860</td>\n",
       "      <td>0.590614</td>\n",
       "    </tr>\n",
       "    <tr>\n",
       "      <th>std</th>\n",
       "      <td>0.0</td>\n",
       "      <td>0.245586</td>\n",
       "      <td>0.203526</td>\n",
       "      <td>0.191691</td>\n",
       "      <td>0.226620</td>\n",
       "      <td>0.205620</td>\n",
       "      <td>0.312521</td>\n",
       "    </tr>\n",
       "    <tr>\n",
       "      <th>min</th>\n",
       "      <td>0.0</td>\n",
       "      <td>0.000000</td>\n",
       "      <td>0.000000</td>\n",
       "      <td>0.000000</td>\n",
       "      <td>0.000000</td>\n",
       "      <td>0.000000</td>\n",
       "      <td>0.000000</td>\n",
       "    </tr>\n",
       "    <tr>\n",
       "      <th>25%</th>\n",
       "      <td>0.0</td>\n",
       "      <td>0.050000</td>\n",
       "      <td>0.030000</td>\n",
       "      <td>0.500000</td>\n",
       "      <td>0.120000</td>\n",
       "      <td>0.050000</td>\n",
       "      <td>0.330000</td>\n",
       "    </tr>\n",
       "    <tr>\n",
       "      <th>50%</th>\n",
       "      <td>0.0</td>\n",
       "      <td>0.172794</td>\n",
       "      <td>0.125000</td>\n",
       "      <td>0.620000</td>\n",
       "      <td>0.250000</td>\n",
       "      <td>0.161765</td>\n",
       "      <td>0.630000</td>\n",
       "    </tr>\n",
       "    <tr>\n",
       "      <th>75%</th>\n",
       "      <td>0.0</td>\n",
       "      <td>0.378676</td>\n",
       "      <td>0.272059</td>\n",
       "      <td>0.750000</td>\n",
       "      <td>0.375000</td>\n",
       "      <td>0.316177</td>\n",
       "      <td>0.870000</td>\n",
       "    </tr>\n",
       "    <tr>\n",
       "      <th>max</th>\n",
       "      <td>0.0</td>\n",
       "      <td>1.000000</td>\n",
       "      <td>1.000000</td>\n",
       "      <td>1.000000</td>\n",
       "      <td>1.000000</td>\n",
       "      <td>1.000000</td>\n",
       "      <td>1.000000</td>\n",
       "    </tr>\n",
       "  </tbody>\n",
       "</table>\n",
       "</div>"
      ],
      "text/plain": [
       "       question1     question2     question3     question4     question5  \\\n",
       "count    22184.0  20867.000000  20753.000000  21679.000000  21583.000000   \n",
       "mean         0.0      0.248225      0.187638      0.614473      0.263132   \n",
       "std          0.0      0.245586      0.203526      0.191691      0.226620   \n",
       "min          0.0      0.000000      0.000000      0.000000      0.000000   \n",
       "25%          0.0      0.050000      0.030000      0.500000      0.120000   \n",
       "50%          0.0      0.172794      0.125000      0.620000      0.250000   \n",
       "75%          0.0      0.378676      0.272059      0.750000      0.375000   \n",
       "max          0.0      1.000000      1.000000      1.000000      1.000000   \n",
       "\n",
       "          question6     question7  \n",
       "count  21053.000000  21153.000000  \n",
       "mean       0.214860      0.590614  \n",
       "std        0.205620      0.312521  \n",
       "min        0.000000      0.000000  \n",
       "25%        0.050000      0.330000  \n",
       "50%        0.161765      0.630000  \n",
       "75%        0.316177      0.870000  \n",
       "max        1.000000      1.000000  "
      ]
     },
     "execution_count": 11,
     "metadata": {},
     "output_type": "execute_result"
    }
   ],
   "source": [
    "tyt_raw[tyt_raw.question1 == 0].drop('user_id', axis=1).describe()"
   ]
  },
  {
   "cell_type": "code",
   "execution_count": 12,
   "id": "d60d3ddd-209d-4b28-9cd3-5178bf0feeae",
   "metadata": {},
   "outputs": [
    {
     "data": {
      "text/html": [
       "<div>\n",
       "<style scoped>\n",
       "    .dataframe tbody tr th:only-of-type {\n",
       "        vertical-align: middle;\n",
       "    }\n",
       "\n",
       "    .dataframe tbody tr th {\n",
       "        vertical-align: top;\n",
       "    }\n",
       "\n",
       "    .dataframe thead th {\n",
       "        text-align: right;\n",
       "    }\n",
       "</style>\n",
       "<table border=\"1\" class=\"dataframe\">\n",
       "  <thead>\n",
       "    <tr style=\"text-align: right;\">\n",
       "      <th></th>\n",
       "      <th>question1</th>\n",
       "      <th>question2</th>\n",
       "      <th>question3</th>\n",
       "      <th>question4</th>\n",
       "      <th>question5</th>\n",
       "      <th>question6</th>\n",
       "      <th>question7</th>\n",
       "    </tr>\n",
       "  </thead>\n",
       "  <tbody>\n",
       "    <tr>\n",
       "      <th>count</th>\n",
       "      <td>87160.0</td>\n",
       "      <td>88161.000000</td>\n",
       "      <td>82311.000000</td>\n",
       "      <td>86477.000000</td>\n",
       "      <td>85133.000000</td>\n",
       "      <td>80979.000000</td>\n",
       "      <td>84686.000000</td>\n",
       "    </tr>\n",
       "    <tr>\n",
       "      <th>mean</th>\n",
       "      <td>1.0</td>\n",
       "      <td>0.532222</td>\n",
       "      <td>0.418216</td>\n",
       "      <td>0.541280</td>\n",
       "      <td>0.236760</td>\n",
       "      <td>0.291427</td>\n",
       "      <td>0.591452</td>\n",
       "    </tr>\n",
       "    <tr>\n",
       "      <th>std</th>\n",
       "      <td>0.0</td>\n",
       "      <td>0.302344</td>\n",
       "      <td>0.286249</td>\n",
       "      <td>0.214534</td>\n",
       "      <td>0.223614</td>\n",
       "      <td>0.245846</td>\n",
       "      <td>0.320795</td>\n",
       "    </tr>\n",
       "    <tr>\n",
       "      <th>min</th>\n",
       "      <td>1.0</td>\n",
       "      <td>0.000000</td>\n",
       "      <td>0.000000</td>\n",
       "      <td>0.000000</td>\n",
       "      <td>0.000000</td>\n",
       "      <td>0.000000</td>\n",
       "      <td>0.000000</td>\n",
       "    </tr>\n",
       "    <tr>\n",
       "      <th>25%</th>\n",
       "      <td>1.0</td>\n",
       "      <td>0.280000</td>\n",
       "      <td>0.183823</td>\n",
       "      <td>0.500000</td>\n",
       "      <td>0.000000</td>\n",
       "      <td>0.090000</td>\n",
       "      <td>0.320000</td>\n",
       "    </tr>\n",
       "    <tr>\n",
       "      <th>50%</th>\n",
       "      <td>1.0</td>\n",
       "      <td>0.510000</td>\n",
       "      <td>0.378677</td>\n",
       "      <td>0.500000</td>\n",
       "      <td>0.250000</td>\n",
       "      <td>0.240000</td>\n",
       "      <td>0.610000</td>\n",
       "    </tr>\n",
       "    <tr>\n",
       "      <th>75%</th>\n",
       "      <td>1.0</td>\n",
       "      <td>0.790000</td>\n",
       "      <td>0.630000</td>\n",
       "      <td>0.750000</td>\n",
       "      <td>0.370000</td>\n",
       "      <td>0.433824</td>\n",
       "      <td>0.913603</td>\n",
       "    </tr>\n",
       "    <tr>\n",
       "      <th>max</th>\n",
       "      <td>1.0</td>\n",
       "      <td>1.000000</td>\n",
       "      <td>1.000000</td>\n",
       "      <td>1.000000</td>\n",
       "      <td>1.000000</td>\n",
       "      <td>1.000000</td>\n",
       "      <td>1.000000</td>\n",
       "    </tr>\n",
       "  </tbody>\n",
       "</table>\n",
       "</div>"
      ],
      "text/plain": [
       "       question1     question2     question3     question4     question5  \\\n",
       "count    87160.0  88161.000000  82311.000000  86477.000000  85133.000000   \n",
       "mean         1.0      0.532222      0.418216      0.541280      0.236760   \n",
       "std          0.0      0.302344      0.286249      0.214534      0.223614   \n",
       "min          1.0      0.000000      0.000000      0.000000      0.000000   \n",
       "25%          1.0      0.280000      0.183823      0.500000      0.000000   \n",
       "50%          1.0      0.510000      0.378677      0.500000      0.250000   \n",
       "75%          1.0      0.790000      0.630000      0.750000      0.370000   \n",
       "max          1.0      1.000000      1.000000      1.000000      1.000000   \n",
       "\n",
       "          question6     question7  \n",
       "count  80979.000000  84686.000000  \n",
       "mean       0.291427      0.591452  \n",
       "std        0.245846      0.320795  \n",
       "min        0.000000      0.000000  \n",
       "25%        0.090000      0.320000  \n",
       "50%        0.240000      0.610000  \n",
       "75%        0.433824      0.913603  \n",
       "max        1.000000      1.000000  "
      ]
     },
     "execution_count": 12,
     "metadata": {},
     "output_type": "execute_result"
    }
   ],
   "source": [
    "tyt_raw[tyt_raw.question1 != 0].drop('user_id', axis=1).describe()"
   ]
  },
  {
   "cell_type": "code",
   "execution_count": null,
   "id": "a6966a91-e503-44b0-ba91-960d29f2b7c2",
   "metadata": {},
   "outputs": [],
   "source": []
  },
  {
   "cell_type": "code",
   "execution_count": null,
   "id": "6d0576a5-4a5b-4187-8b5a-dec67bff6fc1",
   "metadata": {},
   "outputs": [],
   "source": []
  }
 ],
 "metadata": {
  "kernelspec": {
   "display_name": "Python 3 (ipykernel)",
   "language": "python",
   "name": "python3"
  },
  "language_info": {
   "codemirror_mode": {
    "name": "ipython",
    "version": 3
   },
   "file_extension": ".py",
   "mimetype": "text/x-python",
   "name": "python",
   "nbconvert_exporter": "python",
   "pygments_lexer": "ipython3",
   "version": "3.9.0"
  }
 },
 "nbformat": 4,
 "nbformat_minor": 5
}
