{
 "cells": [
  {
   "cell_type": "markdown",
   "id": "fe7447a2-c2f7-48a1-a094-6bfe12ba0185",
   "metadata": {
    "tags": []
   },
   "source": [
    "# Corona Health - Stress Study"
   ]
  },
  {
   "cell_type": "markdown",
   "id": "aa7ce3f2-72c6-48de-beb5-a7ba3e8baddc",
   "metadata": {},
   "source": [
    "## Purpose of this Notebook\n",
    "- Clean the dataset and save cleaned version\n",
    "- Get an statistical overview\n",
    "    - How many users?\n",
    "    - How many assessments (= filled out questionnaires)?\n",
    "    - Date range of the dataset?\n",
    "    - Potential target for classification?\n",
    "    - Potential features for classification?\n",
    "    \n",
    "    "
   ]
  },
  {
   "cell_type": "markdown",
   "id": "695d76d3-3b02-4e22-b64a-83df951d6925",
   "metadata": {},
   "source": [
    "#### Statistical overview"
   ]
  },
  {
   "cell_type": "code",
   "execution_count": 81,
   "id": "404bfeb8-9eda-4fce-9fc1-e03e8f0411c3",
   "metadata": {},
   "outputs": [],
   "source": [
    "# imports\n",
    "import pandas as pd\n",
    "from datetime import date, datetime"
   ]
  },
  {
   "cell_type": "code",
   "execution_count": 82,
   "id": "479c3c1e-9a21-46a5-889c-ba1a37bcfd35",
   "metadata": {},
   "outputs": [],
   "source": [
    "# read in dataframe\n",
    "# assuming current working directory is the folder (your/local/path/UsAs/src/d01_analysis)\n",
    "df = pd.read_csv('../../data/d01_raw/ch/22-07-01_rki_stress_followup.csv')"
   ]
  },
  {
   "cell_type": "code",
   "execution_count": 83,
   "id": "a906792b-03b0-4e84-91bd-66a20e25de5e",
   "metadata": {},
   "outputs": [],
   "source": [
    "# create result dict to save to disk\n",
    "result = dict()"
   ]
  },
  {
   "cell_type": "code",
   "execution_count": 84,
   "id": "6e0dbd13-3c1b-48f9-b792-676e4a2143e3",
   "metadata": {},
   "outputs": [
    {
     "name": "stdout",
     "output_type": "stream",
     "text": [
      "Number of user:\t 357\n"
     ]
    }
   ],
   "source": [
    "# Number of unique users\n",
    "print('Number of user:\\t', df.user_id.nunique())\n",
    "result['n_users'] = df.user_id.nunique()"
   ]
  },
  {
   "cell_type": "code",
   "execution_count": 85,
   "id": "998a5a64-c982-420b-89b6-a53ab2acd2ef",
   "metadata": {},
   "outputs": [
    {
     "name": "stdout",
     "output_type": "stream",
     "text": [
      "Number of assessments:\t 3111\n"
     ]
    }
   ],
   "source": [
    "# number of unique answers\n",
    "print('Number of assessments:\\t', df.answer_id.nunique())\n",
    "result['n_assessments'] = df.answer_id.nunique()"
   ]
  },
  {
   "cell_type": "code",
   "execution_count": 86,
   "id": "e4ba71eb-db18-483a-aeb4-9daa60bed22d",
   "metadata": {},
   "outputs": [
    {
     "name": "stdout",
     "output_type": "stream",
     "text": [
      "Start:\t 2020-12-19 07:59:15\n",
      "End:\t 2022-02-03 21:19:21\n",
      "\n",
      "Date Range in\n",
      "Years:\t 1.126027397260274\n",
      "Months:\t 34.25\n",
      "Days:\t 411\n"
     ]
    }
   ],
   "source": [
    "# date range\n",
    "form = '%Y-%m-%d %H:%M:%S'\n",
    "date_start = df.created_at.min()\n",
    "result['First assessment from'] = date_start\n",
    "date_start = datetime.strptime(date_start, form)\n",
    "date_end = df.created_at.max()\n",
    "result['Latest assessment from'] = date_end\n",
    "date_end = datetime.strptime(date_end, form)\n",
    "\n",
    "\n",
    "\n",
    "print('Start:\\t', date_start)\n",
    "print('End:\\t', date_end)\n",
    "\n",
    "delta = date_end.date()-date_start.date()\n",
    "\n",
    "print('\\nDate Range in')\n",
    "print('Years:\\t', delta.days/365)\n",
    "print('Months:\\t', delta.days/12)\n",
    "print('Days:\\t', delta.days)\n",
    "\n",
    "\n",
    "result['Time range in days'] = delta.days"
   ]
  },
  {
   "cell_type": "markdown",
   "id": "291f5061-6cb9-4957-8c8b-3e030032c3c0",
   "metadata": {},
   "source": [
    "#### Distribution of filled out questionnaires"
   ]
  },
  {
   "cell_type": "code",
   "execution_count": 87,
   "id": "da89219f-6174-454c-857b-c766c641ffc0",
   "metadata": {},
   "outputs": [],
   "source": [
    "bins = [0, 1, 2, 3, 5, 10, 100, 1000]\n",
    "ser = pd.cut(df.user_id.value_counts(), bins = bins).value_counts().sort_index()\n",
    "ser\n",
    "result.update(dict(ser))"
   ]
  },
  {
   "cell_type": "markdown",
   "id": "fa5319eb-02dd-4a22-846b-9624b8be9558",
   "metadata": {},
   "source": [
    "**78 users have one filled out follow up assessment, 52 have two filled out, ...92 users have 10 or more filled out follow up assessments.**"
   ]
  },
  {
   "cell_type": "code",
   "execution_count": 98,
   "id": "d1776938-8f21-41c3-99e3-e855361b380a",
   "metadata": {},
   "outputs": [
    {
     "name": "stdout",
     "output_type": "stream",
     "text": [
      "Statistical overview\n"
     ]
    },
    {
     "data": {
      "text/plain": [
       "{'n_users': 357,\n",
       " 'n_assessments': 3111,\n",
       " 'First assessment from': '2020-12-19 07:59:15',\n",
       " 'Latest assessment from': '2022-02-03 21:19:21',\n",
       " 'Time range in days': 411,\n",
       " Interval(0, 1, closed='right'): 78,\n",
       " Interval(1, 2, closed='right'): 54,\n",
       " Interval(2, 3, closed='right'): 33,\n",
       " Interval(3, 5, closed='right'): 52,\n",
       " Interval(5, 10, closed='right'): 48,\n",
       " Interval(10, 100, closed='right'): 92,\n",
       " Interval(100, 1000, closed='right'): 0}"
      ]
     },
     "execution_count": 98,
     "metadata": {},
     "output_type": "execute_result"
    }
   ],
   "source": [
    "print('Statistical overview')\n",
    "result"
   ]
  },
  {
   "cell_type": "code",
   "execution_count": 88,
   "id": "586c7499-e590-48ba-a815-0800e7b055a9",
   "metadata": {},
   "outputs": [
    {
     "name": "stderr",
     "output_type": "stream",
     "text": [
      "C:\\Users\\joa24jm\\AppData\\Local\\Programs\\Python\\Python39\\lib\\site-packages\\openpyxl\\worksheet\\_reader.py:312: UserWarning: Conditional Formatting extension is not supported and will be removed\n",
      "  warn(msg)\n"
     ]
    }
   ],
   "source": [
    "# read in codebook and reduce to columns and rows of interest\n",
    "cb = pd.read_excel('../../data/d00_helpers/codebook/ch/rki_stress.xlsx', sheet_name='FollowUp', header=5)\n",
    "cb = cb[cb.elementtype=='question']\n",
    "cb = cb.iloc[:, :30]"
   ]
  },
  {
   "cell_type": "code",
   "execution_count": null,
   "id": "c6e90f7b-00be-4b89-8228-1db38ba7b8a9",
   "metadata": {},
   "outputs": [],
   "source": []
  }
 ],
 "metadata": {
  "kernelspec": {
   "display_name": "Python 3 (ipykernel)",
   "language": "python",
   "name": "python3"
  },
  "language_info": {
   "codemirror_mode": {
    "name": "ipython",
    "version": 3
   },
   "file_extension": ".py",
   "mimetype": "text/x-python",
   "name": "python",
   "nbconvert_exporter": "python",
   "pygments_lexer": "ipython3",
   "version": "3.9.0"
  }
 },
 "nbformat": 4,
 "nbformat_minor": 5
}
