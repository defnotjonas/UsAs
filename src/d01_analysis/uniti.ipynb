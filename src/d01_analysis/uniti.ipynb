{
 "cells": [
  {
   "cell_type": "markdown",
   "id": "bee795e4-15e0-44df-8cc6-49120bd61c7d",
   "metadata": {},
   "source": [
    "#  UNITI Dataset"
   ]
  },
  {
   "cell_type": "markdown",
   "id": "3973d04e-db96-4c39-8b42-30f7af663618",
   "metadata": {
    "tags": []
   },
   "source": [
    "## Purpose of this Notebook\n",
    "- [x] Get an statistical overview\n",
    "    - [x] How many users?\n",
    "    - [x] How many assessments (= filled out questionnaires)?\n",
    "    - [x] Date range of the dataset?\n",
    "    - [x] User-assessment distribution\n",
    "- [x] Potential features and target for classification and regression   \n",
    "- [x] Clean the dataset and save cleaned version"
   ]
  },
  {
   "cell_type": "code",
   "execution_count": 26,
   "id": "9317fa07-c488-493c-b33a-b0cbd5540259",
   "metadata": {},
   "outputs": [],
   "source": [
    "# imports\n",
    "import pandas as pd\n",
    "from datetime import date, datetime\n",
    "import seaborn as sns\n",
    "import warnings\n",
    "warnings.filterwarnings('ignore')\n",
    "from pathlib import Path\n",
    "\n",
    "# to import own modules, a workaround - assuming the curent working directory is the folder (your/local/path/UsAs/src/d01_analysis\n",
    "import sys\n",
    "sys.path.insert(0, \"../..\")\n",
    "from src.d00_utils import helpers"
   ]
  },
  {
   "cell_type": "code",
   "execution_count": 90,
   "id": "7556ec63-5b64-4b8d-8807-b181a7d8aacd",
   "metadata": {},
   "outputs": [],
   "source": [
    "# read data\n",
    "df = pd.read_csv(\"../../data/d01_raw/uniti/uniti_dataset_22.09.28.csv\")"
   ]
  },
  {
   "cell_type": "markdown",
   "id": "36ff3854-bd0b-4304-954b-463d56980341",
   "metadata": {
    "tags": []
   },
   "source": [
    "## Get an statistical overview"
   ]
  },
  {
   "cell_type": "markdown",
   "id": "f8713b2c-ca9b-4f30-bfdb-ddcfefdd823a",
   "metadata": {
    "tags": []
   },
   "source": [
    "### User-assessment distribution"
   ]
  },
  {
   "cell_type": "code",
   "execution_count": 89,
   "id": "6e1e23fe-cd88-4f4c-9b88-51c87160245e",
   "metadata": {},
   "outputs": [
    {
     "data": {
      "text/plain": [
       "False"
      ]
     },
     "execution_count": 89,
     "metadata": {},
     "output_type": "execute_result"
    }
   ],
   "source": [
    "# Check for testusers\n",
    "s = df.user_id<2101\n",
    "s.any()"
   ]
  },
  {
   "cell_type": "markdown",
   "id": "e91a9fa1-8589-4b83-9c92-fd85fa649c5f",
   "metadata": {},
   "source": [
    "**There are no testusers in the dataset!**"
   ]
  },
  {
   "cell_type": "code",
   "execution_count": 87,
   "id": "e101e471-b0e0-4e9f-aef9-bd57c804aa31",
   "metadata": {},
   "outputs": [
    {
     "name": "stdout",
     "output_type": "stream",
     "text": [
      "Number of unique users: 522\n"
     ]
    }
   ],
   "source": [
    "# How many users?\n",
    "print(\"Number of unique users:\", df.user_id.nunique())"
   ]
  },
  {
   "cell_type": "code",
   "execution_count": 6,
   "id": "81daf05c-e2b3-4f63-b530-c3c9de765346",
   "metadata": {},
   "outputs": [],
   "source": [
    "#Split the users into 5 categories based on the number of times they interacted with the app.\n",
    "df['assessment_quantile'] = df.user_id.map(pd.qcut(df.user_id.value_counts(), 5).to_dict())"
   ]
  },
  {
   "cell_type": "code",
   "execution_count": 7,
   "id": "9ab64a89-e598-4ef4-9ae7-3c3e86e03dd4",
   "metadata": {},
   "outputs": [
    {
     "data": {
      "text/html": [
       "<div>\n",
       "<style scoped>\n",
       "    .dataframe tbody tr th:only-of-type {\n",
       "        vertical-align: middle;\n",
       "    }\n",
       "\n",
       "    .dataframe tbody tr th {\n",
       "        vertical-align: top;\n",
       "    }\n",
       "\n",
       "    .dataframe thead th {\n",
       "        text-align: right;\n",
       "    }\n",
       "</style>\n",
       "<table border=\"1\" class=\"dataframe\">\n",
       "  <thead>\n",
       "    <tr style=\"text-align: right;\">\n",
       "      <th></th>\n",
       "      <th>assessment_quantile</th>\n",
       "      <th>n_users</th>\n",
       "    </tr>\n",
       "  </thead>\n",
       "  <tbody>\n",
       "    <tr>\n",
       "      <th>0</th>\n",
       "      <td>(0.999, 2.0]</td>\n",
       "      <td>183</td>\n",
       "    </tr>\n",
       "    <tr>\n",
       "      <th>1</th>\n",
       "      <td>(2.0, 8.8]</td>\n",
       "      <td>122</td>\n",
       "    </tr>\n",
       "    <tr>\n",
       "      <th>2</th>\n",
       "      <td>(8.8, 35.0]</td>\n",
       "      <td>155</td>\n",
       "    </tr>\n",
       "    <tr>\n",
       "      <th>3</th>\n",
       "      <td>(35.0, 79.0]</td>\n",
       "      <td>152</td>\n",
       "    </tr>\n",
       "    <tr>\n",
       "      <th>4</th>\n",
       "      <td>(79.0, 442.0]</td>\n",
       "      <td>151</td>\n",
       "    </tr>\n",
       "  </tbody>\n",
       "</table>\n",
       "</div>"
      ],
      "text/plain": [
       "  assessment_quantile  n_users\n",
       "0        (0.999, 2.0]      183\n",
       "1          (2.0, 8.8]      122\n",
       "2         (8.8, 35.0]      155\n",
       "3        (35.0, 79.0]      152\n",
       "4       (79.0, 442.0]      151"
      ]
     },
     "execution_count": 7,
     "metadata": {},
     "output_type": "execute_result"
    }
   ],
   "source": [
    "#Show the number of users that fall into each 'assessment_quantile' group from above.\n",
    "pd.DataFrame(df.groupby('assessment_quantile')['user_id'].nunique()).reset_index().rename({'user_id':'n_users'}, axis=1)"
   ]
  },
  {
   "cell_type": "code",
   "execution_count": 8,
   "id": "33b01d79-4313-4008-aade-d78e1feba3d4",
   "metadata": {},
   "outputs": [
    {
     "name": "stdout",
     "output_type": "stream",
     "text": [
      "763\n"
     ]
    }
   ],
   "source": [
    "#Sanity check, that no user was left out.\n",
    "print(151+152+155+122+183)\n"
   ]
  },
  {
   "cell_type": "code",
   "execution_count": 79,
   "id": "aa38b860-58ec-438b-9081-c93a5a859755",
   "metadata": {},
   "outputs": [
    {
     "name": "stdout",
     "output_type": "stream",
     "text": [
      "\n"
     ]
    },
    {
     "data": {
      "image/png": "[encoded data removed]",
      "text/plain": [
       "<Figure size 432x288 with 1 Axes>"
      ]
     },
     "metadata": {
      "needs_background": "light"
     },
     "output_type": "display_data"
    }
   ],
   "source": [
    "statistic = pd.DataFrame(\n",
    "        df.user_id.value_counts().sort_values(ascending=True).value_counts()\n",
    "    ).rename(\n",
    "        {'index':'length', 'user_id':'n_users'}\n",
    "    )\n",
    "ax = sns.lineplot(data=statistic, x=statistic.index, y='user_id')\n",
    "ax.set_ylabel(\"n_users\")\n",
    "ax.set_xlabel(\"n_assessments\")\n",
    "ax.set_title(\"Number of users (Y) with a particular number of assessments (X)\")\n",
    "print(\"\") #Just my hack to suppress the annoying seaborn output. Dunno how to turn it off, sorry."
   ]
  },
  {
   "cell_type": "markdown",
   "id": "8622b003-33c2-4f47-92fc-330e18c9fc31",
   "metadata": {
    "tags": []
   },
   "source": [
    "##### There are some outlier users with 400+ assessments, just zooming in so you see the real deal"
   ]
  },
  {
   "cell_type": "code",
   "execution_count": 81,
   "id": "6b564d68-06ce-4f80-86e2-047d2db89708",
   "metadata": {},
   "outputs": [
    {
     "name": "stdout",
     "output_type": "stream",
     "text": [
      "There are some outlier users with 400+ assessments, just zooming in so you see the real deal\n"
     ]
    },
    {
     "data": {
      "image/png": "[encoded data removed]",
      "text/plain": [
       "<Figure size 432x288 with 1 Axes>"
      ]
     },
     "metadata": {
      "needs_background": "light"
     },
     "output_type": "display_data"
    }
   ],
   "source": [
    "statistic = pd.DataFrame(df.user_id.value_counts().sort_values(ascending=True).value_counts()).rename({'index':'length', 'user_id':'n_users'})\n",
    "ax = sns.lineplot(data=statistic, x=statistic.index, y='user_id')\n",
    "ax.set_xlabel(\"n_assessments\")\n",
    "ax.set_ylabel(\"n_users\")\n",
    "ax.set_ylim((0,80))\n",
    "print(\"There are some outlier users with 400+ assessments, just zooming in so you see the real deal\")"
   ]
  },
  {
   "cell_type": "code",
   "execution_count": 11,
   "id": "c2bfffb6-6e5f-4e57-bff8-994c55d4fa5d",
   "metadata": {},
   "outputs": [
    {
     "name": "stdout",
     "output_type": "stream",
     "text": [
      "First datestamp: 2021-04-13 20:35:15 \n",
      "25% of the data comes before: 2021-09-12 \n",
      "50% of the data comes before: 2022-01-23 \n",
      "75% of the data comes before: 2022-04-30 \n",
      "Last datestamp: 2022-09-27 22:57:33\n",
      "Total span in days: 532  days\n"
     ]
    }
   ],
   "source": [
    "uniti_date_info = pd.to_datetime(df.created_at, format=\"%Y-%m-%d %H:%M:%S\", errors='raise').describe(datetime_is_numeric=True)\n",
    "print(\"First datestamp:\", uniti_date_info['min'], \n",
    "      \"\\n25% of the data comes before:\", uniti_date_info['25%'].date(),\n",
    "     \"\\n50% of the data comes before:\", uniti_date_info['50%'].date(),\n",
    "     \"\\n75% of the data comes before:\", uniti_date_info['75%'].date(),\n",
    "     \"\\nLast datestamp:\", uniti_date_info['max'])\n",
    "print(\"Total span in days:\", (uniti_date_info['max'] - uniti_date_info['min']).days, \" days\")"
   ]
  },
  {
   "cell_type": "markdown",
   "id": "bdfe3d2a-e10f-40f8-8205-5670c20f8c49",
   "metadata": {},
   "source": [
    "#### How is the total span of the dataset related to the total span for each user?\n",
    "\n",
    "##### Please take the n_assessments percentile value with a pinch of salt... The computation is a bit oversimplified, but still hopefully useful to get a sense of the data. If we want to be accurate, we should check the percentile values for n_assessments after filtering only for those users who have X days of data. That will give a clearer idea. \n",
    "\n",
    "If that disclaimer was not understandable, sorry. I think it is easier to explain over a call."
   ]
  },
  {
   "cell_type": "markdown",
   "id": "a779e010-f4f3-4061-8ffb-d60dcc77109c",
   "metadata": {
    "jp-MarkdownHeadingCollapsed": true,
    "tags": []
   },
   "source": [
    "#### Date range:"
   ]
  },
  {
   "cell_type": "code",
   "execution_count": 12,
   "id": "3e438a46-ebb8-4991-9d3c-71f24d523021",
   "metadata": {},
   "outputs": [
    {
     "name": "stdout",
     "output_type": "stream",
     "text": [
      "The shortest user has a date-span of 0 days of data with 1.0 assessments\n",
      "25% of the users have 3 days of data, with 2.0 assessments\n",
      "50% of the users have 44 days of data, with 16.0 assessments\n",
      "75% of the users have 93 days of data, with 63.0 assessments\n",
      "Max. is 504 days 00:00:00 days of data with 433.0 assessments\n",
      "--------------------------------\n",
      "On average, users have  68 +/- 83 days of data, with on average of 39.48885976408912 +/- 53.78798975246744 assessments\n"
     ]
    }
   ],
   "source": [
    "df['date'] = [x.date() for x in pd.to_datetime(df.created_at, format=\"%Y-%m-%d %H:%M:%S\", errors='raise')]\n",
    "user_date_spans = pd.DataFrame(df.groupby(\n",
    "                        'user_id', as_index=False).agg(\n",
    "                            {'date': ['min','max','nunique']}).values, \n",
    "                    columns = ['user_id','datestamp_min','datestamp_max', 'n_assessments'])\n",
    "user_date_spans['time_delta'] = user_date_spans['datestamp_max'] - user_date_spans['datestamp_min']\n",
    "user_date_spans['n_assessments'] = user_date_spans['n_assessments'].astype(int)\n",
    "\n",
    "user_date_spans_description = user_date_spans.describe()\n",
    "print(\"The shortest user has a date-span of\", user_date_spans_description['time_delta']['min'].days\n",
    "      , \"days of data with\", user_date_spans_description['n_assessments']['min'], \"assessments\")\n",
    "\n",
    "print(\"25% of the users have\", user_date_spans_description['time_delta']['25%'].days, \n",
    "      \"days of data, with\", user_date_spans_description['n_assessments']['25%'],\"assessments\")\n",
    "print(\"50% of the users have\", user_date_spans_description['time_delta']['50%'].days, \n",
    "      \"days of data, with\", user_date_spans_description['n_assessments']['50%'],\"assessments\")\n",
    "print(\"75% of the users have\", user_date_spans_description['time_delta']['75%'].days, \n",
    "      \"days of data, with\", user_date_spans_description['n_assessments']['75%'],\"assessments\")\n",
    "\n",
    "\n",
    "\n",
    "print(\"Max. is\", user_date_spans_description['time_delta']['max'], \"days of data with\", user_date_spans_description['n_assessments']['max'], \"assessments\")\n",
    "\n",
    "\n",
    "print(\"--------------------------------\\nOn average, users have \", user_date_spans_description['time_delta']['mean'].days, \n",
    "      \"+/-\", user_date_spans_description['time_delta']['std'].days ,\"days of data, with on average of\",\n",
    "      user_date_spans_description['n_assessments']['mean'], \"+/-\", user_date_spans_description['n_assessments']['std'], \"assessments\")\n",
    "\n"
   ]
  },
  {
   "cell_type": "markdown",
   "id": "59fa3a80-08d1-4dd2-8896-2f68d018d998",
   "metadata": {},
   "source": [
    "However, there are both anonymous and non-anonymous participants in the above dataset. If we remove anonymous participants, the statistics are as follows"
   ]
  },
  {
   "cell_type": "code",
   "execution_count": 13,
   "id": "551ec86c-51da-4660-bbf7-64ca176219c7",
   "metadata": {},
   "outputs": [
    {
     "name": "stdout",
     "output_type": "stream",
     "text": [
      "The distribution for number of users within a certain range of assessments submitted varies like in the table below:\n"
     ]
    },
    {
     "data": {
      "text/html": [
       "<div>\n",
       "<style scoped>\n",
       "    .dataframe tbody tr th:only-of-type {\n",
       "        vertical-align: middle;\n",
       "    }\n",
       "\n",
       "    .dataframe tbody tr th {\n",
       "        vertical-align: top;\n",
       "    }\n",
       "\n",
       "    .dataframe thead th {\n",
       "        text-align: right;\n",
       "    }\n",
       "</style>\n",
       "<table border=\"1\" class=\"dataframe\">\n",
       "  <thead>\n",
       "    <tr style=\"text-align: right;\">\n",
       "      <th></th>\n",
       "      <th>assessment_quantile</th>\n",
       "      <th>n_users</th>\n",
       "    </tr>\n",
       "  </thead>\n",
       "  <tbody>\n",
       "    <tr>\n",
       "      <th>0</th>\n",
       "      <td>(0.999, 8.0]</td>\n",
       "      <td>110</td>\n",
       "    </tr>\n",
       "    <tr>\n",
       "      <th>1</th>\n",
       "      <td>(8.0, 28.0]</td>\n",
       "      <td>111</td>\n",
       "    </tr>\n",
       "    <tr>\n",
       "      <th>2</th>\n",
       "      <td>(28.0, 60.8]</td>\n",
       "      <td>102</td>\n",
       "    </tr>\n",
       "    <tr>\n",
       "      <th>3</th>\n",
       "      <td>(60.8, 87.4]</td>\n",
       "      <td>108</td>\n",
       "    </tr>\n",
       "    <tr>\n",
       "      <th>4</th>\n",
       "      <td>(87.4, 442.0]</td>\n",
       "      <td>108</td>\n",
       "    </tr>\n",
       "  </tbody>\n",
       "</table>\n",
       "</div>"
      ],
      "text/plain": [
       "  assessment_quantile  n_users\n",
       "0        (0.999, 8.0]      110\n",
       "1         (8.0, 28.0]      111\n",
       "2        (28.0, 60.8]      102\n",
       "3        (60.8, 87.4]      108\n",
       "4       (87.4, 442.0]      108"
      ]
     },
     "execution_count": 13,
     "metadata": {},
     "output_type": "execute_result"
    }
   ],
   "source": [
    "uniti_non_anon = df[df.user_id < 42101].copy()\n",
    "uniti_non_anon.loc[:,'assessment_quantile'] = uniti_non_anon.loc[:,'user_id'].map(pd.qcut(uniti_non_anon.user_id.value_counts(), 5).to_dict())\n",
    "\n",
    "print(\"The distribution for number of users within a certain range of assessments submitted varies like in the table below:\")\n",
    "pd.DataFrame(uniti_non_anon.groupby('assessment_quantile')['user_id'].nunique()).reset_index().rename({'user_id':'n_users'}, axis=1)"
   ]
  },
  {
   "cell_type": "code",
   "execution_count": 14,
   "id": "47be319c-abe2-45f1-bf84-ab0dfaa8611c",
   "metadata": {},
   "outputs": [
    {
     "name": "stdout",
     "output_type": "stream",
     "text": [
      "539 users in table above, and 539  non-anonymous users in the dataset\n"
     ]
    }
   ],
   "source": [
    "# Sanity check\n",
    "print(110+111+102+108+108, \"users in table above, and\", uniti_non_anon.user_id.nunique(), \" non-anonymous users in the dataset\")"
   ]
  },
  {
   "cell_type": "code",
   "execution_count": 16,
   "id": "4e1e2a39-5dd9-4c79-9f1f-a60eb1a7a46a",
   "metadata": {},
   "outputs": [
    {
     "name": "stdout",
     "output_type": "stream",
     "text": [
      "First datestamp: 2021-04-16 16:16:03 \n",
      "25% of the data comes before: 2021-09-10 \n",
      "50% of the data comes before: 2022-01-21 \n",
      "75% of the data comes before: 2022-04-29 \n",
      "Last datestamp: 2022-09-27 22:57:33\n",
      "Total span in days: 529  days\n",
      "The date range doesnt seem to change much, whether we filter out anons or not.\n"
     ]
    }
   ],
   "source": [
    "uniti_date_info = pd.to_datetime(uniti_non_anon.created_at, format=\"%Y-%m-%d %H:%M:%S\", errors='raise').describe(datetime_is_numeric=True)\n",
    "print(\"First datestamp:\", uniti_date_info['min'], \n",
    "      \"\\n25% of the data comes before:\", uniti_date_info['25%'].date(),\n",
    "     \"\\n50% of the data comes before:\", uniti_date_info['50%'].date(),\n",
    "     \"\\n75% of the data comes before:\", uniti_date_info['75%'].date(),\n",
    "     \"\\nLast datestamp:\", uniti_date_info['max'])\n",
    "print(\"Total span in days:\", (uniti_date_info['max'] - uniti_date_info['min']).days, \" days\")\n",
    "\n",
    "print(\"The date range doesnt seem to change much, whether we filter out anons or not.\")"
   ]
  },
  {
   "cell_type": "code",
   "execution_count": 83,
   "id": "36c2a6b6-6417-4b59-9a38-d9872985bfdd",
   "metadata": {},
   "outputs": [
    {
     "name": "stdout",
     "output_type": "stream",
     "text": [
      "The shortest user has a date-span of 0 days of data with 1.0 assessments\n",
      "25% of the users have 23 days of data, with 11.0 assessments\n",
      "50% of the users have 78 days of data, with 39.0 assessments\n",
      "75% of the users have 109 days of data, with 78.0 assessments\n",
      "Max. is 504 days 00:00:00 days of data with 433.0 assessments\n",
      "--------------------------------\n",
      "On average, users have  87 +/- 85 days of data, with on average of 52.84415584415584 +/- 57.24308872247093 assessments\n",
      "The number of uber-short users drops sharply, because 25% of the users now have data spanning 23 days (with 11 assessments)\n"
     ]
    }
   ],
   "source": [
    "uniti_non_anon['date'] = [x.date() for x in pd.to_datetime(uniti_non_anon.created_at, format=\"%Y-%m-%d %H:%M:%S\", errors='raise')]\n",
    "user_date_spans = pd.DataFrame(uniti_non_anon.groupby(\n",
    "                        'user_id', as_index=False).agg(\n",
    "                            {'date': ['min','max','nunique']}).values, \n",
    "                    columns = ['user_id','datestamp_min','datestamp_max', 'n_assessments'])\n",
    "user_date_spans['time_delta'] = user_date_spans['datestamp_max'] - user_date_spans['datestamp_min']\n",
    "user_date_spans['n_assessments'] = user_date_spans['n_assessments'].astype(int)\n",
    "\n",
    "user_date_spans_description = user_date_spans.describe()\n",
    "print(\"The shortest user has a date-span of\", user_date_spans_description['time_delta']['min'].days\n",
    "      , \"days of data with\", user_date_spans_description['n_assessments']['min'], \"assessments\")\n",
    "\n",
    "print(\"25% of the users have\", user_date_spans_description['time_delta']['25%'].days, \n",
    "      \"days of data, with\", user_date_spans_description['n_assessments']['25%'],\"assessments\")\n",
    "print(\"50% of the users have\", user_date_spans_description['time_delta']['50%'].days, \n",
    "      \"days of data, with\", user_date_spans_description['n_assessments']['50%'],\"assessments\")\n",
    "print(\"75% of the users have\", user_date_spans_description['time_delta']['75%'].days, \n",
    "      \"days of data, with\", user_date_spans_description['n_assessments']['75%'],\"assessments\")\n",
    "print(\"Max. is\", user_date_spans_description['time_delta']['max'], \"days of data with\", user_date_spans_description['n_assessments']['max'], \"assessments\")\n",
    "print(\"--------------------------------\\nOn average, users have \", user_date_spans_description['time_delta']['mean'].days, \n",
    "      \"+/-\", user_date_spans_description['time_delta']['std'].days ,\"days of data, with on average of\",\n",
    "      user_date_spans_description['n_assessments']['mean'], \"+/-\", user_date_spans_description['n_assessments']['std'], \"assessments\")\n",
    "print(\"The number of uber-short users drops sharply, because 25% of the users now have data spanning 23 days (with 11 assessments)\")"
   ]
  },
  {
   "cell_type": "markdown",
   "id": "f527302f-6342-4730-b16d-088427878909",
   "metadata": {
    "jp-MarkdownHeadingCollapsed": true,
    "tags": []
   },
   "source": [
    "## Potential features and target for classification and regression"
   ]
  },
  {
   "cell_type": "markdown",
   "id": "caa9f978-25d5-44be-8cb6-67a4f3a1ea7a",
   "metadata": {
    "tags": []
   },
   "source": [
    "####  A candidate for target variable (Regression) is \"cumberness\"\n",
    "\n",
    "\n",
    "This is because it is a measure of the distress caused by the disease, and because there is no clear treatment that reliably reduces symptom severity, treating the distress caused by the disease (like in the case of chronic pain) is considered the thing to do, rather than treat the symptom severity.\n",
    "\n",
    "####  If classification, target variable (\"cumberness\") discretisation can be attempted.:\n",
    "\n",
    "(target in mean +/- user-defined noise threshold is \"no change\", \n",
    "target > mean + threashold is \"worse\", \n",
    "mean - threshold is \"better\")\n",
    "\n",
    "#### Candidate for features is all other questions excluding target:\n",
    "\n",
    "`[loudness, cumberness, jawbone, neck, tin_day, tin_cumber, tin_max, movement, stress, emotion]`"
   ]
  },
  {
   "cell_type": "markdown",
   "id": "c3712b12-abf4-4723-a9e6-c616aaa15f6b",
   "metadata": {
    "tags": []
   },
   "source": [
    "## Clean the dataset and save cleaned version"
   ]
  },
  {
   "cell_type": "code",
   "execution_count": 30,
   "id": "214d1932-e72d-4a5e-a143-46d8e80b99c1",
   "metadata": {},
   "outputs": [],
   "source": [
    "# created timeshift target\n",
    "df = helpers.create_target_shift(df, target_name='cumberness')"
   ]
  },
  {
   "cell_type": "code",
   "execution_count": 31,
   "id": "1deab73f-ef27-4433-9943-a86df84f0781",
   "metadata": {},
   "outputs": [],
   "source": [
    "# reduce dataframe to ML columns\n",
    "meta_columns = ['user_id', 'created_at']\n",
    "features = ['loudness', 'cumberness', 'jawbone', 'neck',\n",
    "            'tin_day', 'tin_cumber', 'tin_max', 'movement', \n",
    "            'stress', 'emotion']\n",
    "target = ['cumberness_t1']\n",
    "\n",
    "df = df[meta_columns + features + target]"
   ]
  },
  {
   "cell_type": "code",
   "execution_count": 32,
   "id": "84e19d1c-a854-452d-a990-a2ee8646f107",
   "metadata": {},
   "outputs": [],
   "source": [
    "# save to disk\n",
    "Path(\"../../data/d02_processed/uniti\").mkdir(parents=True, exist_ok=True)\n",
    "df.to_csv(\"../../data/d02_processed/uniti/uniti.csv\", index_label='answer_id')"
   ]
  }
 ],
 "metadata": {
  "kernelspec": {
   "display_name": "Python 3 (ipykernel)",
   "language": "python",
   "name": "python3"
  },
  "language_info": {
   "codemirror_mode": {
    "name": "ipython",
    "version": 3
   },
   "file_extension": ".py",
   "mimetype": "text/x-python",
   "name": "python",
   "nbconvert_exporter": "python",
   "pygments_lexer": "ipython3",
   "version": "3.9.0"
  }
 },
 "nbformat": 4,
 "nbformat_minor": 5
}
